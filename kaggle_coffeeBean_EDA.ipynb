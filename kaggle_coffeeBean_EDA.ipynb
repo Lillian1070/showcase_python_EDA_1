{
 "cells": [
  {
   "cell_type": "markdown",
   "id": "740b1b07-1104-4520-9f3b-c7057e0dbf94",
   "metadata": {},
   "source": [
    "# Python Project - Exploratory Data Analysis (EDA)\n",
    "\n",
    "This project demonstrates Exploratory Data Analysis (EDA) techniques using Python. The main focus is to uncover patterns, trends, and insights in the dataset. The EDA involves:\n",
    "\n",
    "- Analyzing the distribution of key variables\n",
    "- Exploring relationships between different features using visualizations\n",
    "- Identifying potential correlations or patterns\n",
    "- Investigating feature importance\n",
    "- Visualizing summary statistics for both numerical and categorical data\n",
    "\n",
    "\n",
    "## Outline\n",
    "1. Import libraries\n",
    "2. Load and read cleaned dataset\n",
    "3. Explore dataset\n",
    "\n",
    "   3-1. Analyze the distribution of key variables\n",
    "    \n",
    "   3-2. Explore relationships between different features using visualizations\n",
    "\n",
    "   3-3. Identify potential correlations or patterns\n",
    "\n",
    "   3-4. Investigate feature importance\n",
    "\n",
    "   3-5. Visualize summary statistics for both numerical and categorical data\n",
    "   \n",
    "5. Save dataset for analysis"
   ]
  },
  {
   "cell_type": "markdown",
   "id": "e5857e16-ce2c-46b4-93a0-3d0946202110",
   "metadata": {},
   "source": [
    "## 1. Import Libraries\n",
    "\n",
    "For the EDA process, several libraries are required to facilitate data manipulation, visualization, and analysis. These libraries provide various functions to handle datasets, perform statistical analysis, and create visual representations of the data.\n",
    "\n",
    "The key libraries used in this project are:\n",
    "\n",
    "- **Pandas**: For handling and manipulating the dataset, such as summarizing data, filtering, and grouping\n",
    "- **NumPy**: For numerical operations like handling arrays and computing statistical measures\n",
    "- **Matplotlib**: For data visualization, including plotting graphs like histograms, scatter plots, and other basic visualizations\n",
    "- **Seaborn**: For statistical data visualization and enhanced graphical representations. It is used for heatmaps, pair plots, and correlation matrices to reveal deeper patterns in the data\n",
    "\n",
    "These libraries provide all the necessary tools for conducting a thorough exploratory data analysis."
   ]
  },
  {
   "cell_type": "code",
   "execution_count": 1,
   "id": "16bc99dd-c5e8-4dc2-8cd4-5d107be6ab88",
   "metadata": {},
   "outputs": [],
   "source": [
    "import pandas as pd  # Load and manipulate data\n",
    "import numpy as np   # Perform numerical operations\n",
    "import matplotlib.pyplot as plt  # Visualization\n",
    "import seaborn as sns  # Statistical visualization"
   ]
  },
  {
   "cell_type": "markdown",
   "id": "215465dd-b6fc-4837-9669-85eb479f9e22",
   "metadata": {},
   "source": [
    "## 2. Load and Read Dataset\n",
    "\n",
    "Once we import the necessary libraries, we can now load the cleaned dataset (`cleaned_dataset.csv`, a CSV file from the [data cleaning project](https://github.com/Lillian1070/showcase_python_dataCleaning_1/blob/main/cleaned_dataset.csv)) into a Pandas DataFrame using `read_csv()` to make it easier to work with. "
   ]
  },
  {
   "cell_type": "code",
   "execution_count": 2,
   "id": "8caa9678-a624-41f6-8025-2517a79c5d1a",
   "metadata": {},
   "outputs": [],
   "source": [
    "df = pd.read_csv(\"cleaned_dataset.csv\")"
   ]
  },
  {
   "cell_type": "code",
   "execution_count": 4,
   "id": "60dccab9-3cfc-4865-b231-b26694744fa2",
   "metadata": {},
   "outputs": [],
   "source": [
    "# df.head()"
   ]
  },
  {
   "cell_type": "markdown",
   "id": "116694b9-b8ca-44ff-a197-ca4722722e6d",
   "metadata": {},
   "source": [
    "## 3.Explore Dataset\n",
    "\n"
   ]
  },
  {
   "cell_type": "code",
   "execution_count": null,
   "id": "32aef579-2a59-4732-8877-478ba2307859",
   "metadata": {},
   "outputs": [],
   "source": []
  },
  {
   "cell_type": "markdown",
   "id": "40e37841-d2cc-4cd2-ab61-0ce0878bd4a7",
   "metadata": {},
   "source": [
    "### 3-1. Analyze the distribution of key variables\n",
    "\n",
    "\n"
   ]
  },
  {
   "cell_type": "code",
   "execution_count": null,
   "id": "2e31b1b7-3c3e-40f7-8792-516fe890c4e5",
   "metadata": {},
   "outputs": [],
   "source": []
  },
  {
   "cell_type": "markdown",
   "id": "10624803-efc8-4961-a578-8129d17a506b",
   "metadata": {},
   "source": [
    "### 3-2. Explore relationships between different features using visualizations\n",
    "\n",
    "\n",
    "\n"
   ]
  },
  {
   "cell_type": "code",
   "execution_count": null,
   "id": "37000127-b637-4249-9357-76a3a9514813",
   "metadata": {},
   "outputs": [],
   "source": []
  },
  {
   "cell_type": "markdown",
   "id": "ce81caca-786b-483c-bbe3-75b2dae5d78a",
   "metadata": {},
   "source": [
    "### 3-3. Identify potential correlations or patterns\n",
    "\n",
    "\n",
    "\n"
   ]
  },
  {
   "cell_type": "code",
   "execution_count": null,
   "id": "4bbf3f78-ef09-4cf4-aecc-2078ae089867",
   "metadata": {},
   "outputs": [],
   "source": []
  },
  {
   "cell_type": "markdown",
   "id": "0cb8d3fd-8f15-4779-af36-acf480df9e8e",
   "metadata": {},
   "source": [
    "### 3-4. Investigate feature importance\n",
    "\n",
    "\n",
    "\n"
   ]
  },
  {
   "cell_type": "code",
   "execution_count": null,
   "id": "bdb8b17e-c09e-4818-958e-a83762731ec9",
   "metadata": {},
   "outputs": [],
   "source": []
  },
  {
   "cell_type": "markdown",
   "id": "3bd28a2e-1b42-4bc1-9e3c-56a0ede03ce2",
   "metadata": {},
   "source": [
    "### 3-5. Visualize summary statistics for both numerical and categorical data\n",
    "\n",
    "\n",
    "\n"
   ]
  },
  {
   "cell_type": "code",
   "execution_count": null,
   "id": "3e9a536f-f2ae-41a8-9710-138c025d670d",
   "metadata": {},
   "outputs": [],
   "source": []
  },
  {
   "cell_type": "markdown",
   "id": "f3e145ed-13ee-4817-ab54-79375539b033",
   "metadata": {},
   "source": [
    "## 4.Save Dataset for Analysis\n",
    "\n"
   ]
  },
  {
   "cell_type": "code",
   "execution_count": null,
   "id": "afd13e3b-1188-4dca-bbd9-758bcb0ce20c",
   "metadata": {},
   "outputs": [],
   "source": [
    "# df_final = df_xxxxx"
   ]
  },
  {
   "cell_type": "code",
   "execution_count": null,
   "id": "b0bf106b-c748-4eff-94a0-5d50311d5eb6",
   "metadata": {},
   "outputs": [],
   "source": [
    "# print(\"Final data shape:\", df_final.shape)\n",
    "# print(df_final.columns)\n",
    "# df_final.head()"
   ]
  },
  {
   "cell_type": "code",
   "execution_count": null,
   "id": "d921e69e-2d25-4ca2-9d1d-93f33f44558f",
   "metadata": {},
   "outputs": [],
   "source": [
    "# df_final.to_csv('final_dataset.csv', index=False)"
   ]
  }
 ],
 "metadata": {
  "kernelspec": {
   "display_name": "Python 3 (ipykernel)",
   "language": "python",
   "name": "python3"
  },
  "language_info": {
   "codemirror_mode": {
    "name": "ipython",
    "version": 3
   },
   "file_extension": ".py",
   "mimetype": "text/x-python",
   "name": "python",
   "nbconvert_exporter": "python",
   "pygments_lexer": "ipython3",
   "version": "3.10.0"
  }
 },
 "nbformat": 4,
 "nbformat_minor": 5
}
